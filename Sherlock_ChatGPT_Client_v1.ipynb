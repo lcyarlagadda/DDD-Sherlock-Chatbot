{
  "nbformat": 4,
  "nbformat_minor": 0,
  "metadata": {
    "colab": {
      "provenance": []
    },
    "kernelspec": {
      "name": "python3",
      "display_name": "Python 3"
    },
    "language_info": {
      "name": "python"
    }
  },
  "cells": [
    {
      "cell_type": "code",
      "execution_count": 1,
      "metadata": {
        "id": "IH5y5ciiZHWA"
      },
      "outputs": [],
      "source": [
        "import requests"
      ]
    },
    {
      "cell_type": "markdown",
      "source": [
        "### Update the baseurl from the ChatGPT_Server.ipynb"
      ],
      "metadata": {
        "id": "SBvtafZ1srCm"
      }
    },
    {
      "cell_type": "code",
      "source": [
        "baseurl = 'https://7c6e-34-45-116-75.ngrok-free.app/'\n"
      ],
      "metadata": {
        "id": "RagkGqKTsp1D"
      },
      "execution_count": 8,
      "outputs": []
    },
    {
      "cell_type": "markdown",
      "source": [
        "### Health Check API"
      ],
      "metadata": {
        "id": "kL0AM8XEsXy4"
      }
    },
    {
      "cell_type": "code",
      "source": [
        "url = baseurl + \"/health\"\n",
        "response = requests.get(url)\n",
        "print(response)"
      ],
      "metadata": {
        "colab": {
          "base_uri": "https://localhost:8080/"
        },
        "id": "l8UJAIxbsVIb",
        "outputId": "208663e8-d4c1-4a04-e582-f0ec586118e4"
      },
      "execution_count": 9,
      "outputs": [
        {
          "output_type": "stream",
          "name": "stdout",
          "text": [
            "<Response [200]>\n"
          ]
        }
      ]
    },
    {
      "cell_type": "markdown",
      "source": [
        "### Make Chatbot API Request"
      ],
      "metadata": {
        "id": "q36cgKNbscnP"
      }
    },
    {
      "cell_type": "code",
      "source": [
        "\n",
        "url = baseurl + \"/chatbot\"\n",
        "\n",
        "# send a query to the chatbot\n",
        "query = 'How do you spend your free time?'\n",
        "response = requests.post(url, json={'text': query})\n",
        "\n",
        "# print the response\n",
        "print(response.json())\n"
      ],
      "metadata": {
        "colab": {
          "base_uri": "https://localhost:8080/"
        },
        "id": "DCXsxTnLZJ2Y",
        "outputId": "a1a0a78b-f55f-459a-d319-3ddebba579e3"
      },
      "execution_count": 19,
      "outputs": [
        {
          "output_type": "stream",
          "name": "stdout",
          "text": [
            "{'cleaned_response': 'I spend my free time trying to figure out the best way to solve crimes and solve complex cases. It is important to me to stay focused on solving cases and keeping my focus on solving the cases I solve.', 'raw_response': 'How do you spend your free time? I spend my free time trying to figure out the best way to solve crimes and solve complex cases. It is important to me to stay focused on solving cases and keeping my focus on solving the cases I solve.', 'timestamp': '2025-04-19T00:29:56.103100'}\n"
          ]
        }
      ]
    },
    {
      "cell_type": "code",
      "source": [],
      "metadata": {
        "id": "6aBI_fCHZV7V"
      },
      "execution_count": null,
      "outputs": []
    },
    {
      "cell_type": "markdown",
      "source": [
        "\n"
      ],
      "metadata": {
        "id": "IJ3G3FhUHV5y"
      }
    },
    {
      "cell_type": "code",
      "source": [],
      "metadata": {
        "id": "CdK5Oa5lHii2"
      },
      "execution_count": null,
      "outputs": []
    }
  ]
}